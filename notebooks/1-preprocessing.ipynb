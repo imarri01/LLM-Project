{
 "cells": [
  {
   "cell_type": "code",
   "metadata": {
    "ExecuteTime": {
     "end_time": "2024-07-01T18:15:36.986199Z",
     "start_time": "2024-07-01T18:15:33.015174Z"
    }
   },
   "source": [
    "import pandas as pd\n",
    "import numpy as np\n",
    "import transformers\n",
    "import nltk\n",
    "import spacy\n",
    "import datasets\n",
    "from transformers import BertTokenizer, BertModel\n",
    "from datasets import load_dataset\n",
    "from datasets import Dataset, DatasetDict\n",
    "from sklearn.feature_extraction.text import TfidfVectorizer"
   ],
   "outputs": [],
   "execution_count": 1
  },
  {
   "metadata": {
    "ExecuteTime": {
     "end_time": "2024-07-01T18:15:38.571879Z",
     "start_time": "2024-07-01T18:15:36.987468Z"
    }
   },
   "cell_type": "code",
   "source": "ds = load_dataset('multi_news')",
   "outputs": [],
   "execution_count": 2
  },
  {
   "metadata": {
    "ExecuteTime": {
     "end_time": "2024-07-01T18:15:38.578904Z",
     "start_time": "2024-07-01T18:15:38.573326Z"
    }
   },
   "cell_type": "code",
   "source": "ds",
   "outputs": [
    {
     "data": {
      "text/plain": [
       "DatasetDict({\n",
       "    train: Dataset({\n",
       "        features: ['document', 'summary'],\n",
       "        num_rows: 44972\n",
       "    })\n",
       "    validation: Dataset({\n",
       "        features: ['document', 'summary'],\n",
       "        num_rows: 5622\n",
       "    })\n",
       "    test: Dataset({\n",
       "        features: ['document', 'summary'],\n",
       "        num_rows: 5622\n",
       "    })\n",
       "})"
      ]
     },
     "execution_count": 3,
     "metadata": {},
     "output_type": "execute_result"
    }
   ],
   "execution_count": 3
  },
  {
   "metadata": {
    "ExecuteTime": {
     "end_time": "2024-07-01T18:15:38.585430Z",
     "start_time": "2024-07-01T18:15:38.580878Z"
    }
   },
   "cell_type": "code",
   "source": "ds['train'][0]",
   "outputs": [
    {
     "data": {
      "text/plain": [
       "{'document': 'National Archives \\n \\n Yes, it’s that time again, folks. It’s the first Friday of the month, when for one ever-so-brief moment the interests of Wall Street, Washington and Main Street are all aligned on one thing: Jobs. \\n \\n A fresh update on the U.S. employment situation for January hits the wires at 8:30 a.m. New York time offering one of the most important snapshots on how the economy fared during the previous month. Expectations are for 203,000 new jobs to be created, according to economists polled by Dow Jones Newswires, compared to 227,000 jobs added in February. The unemployment rate is expected to hold steady at 8.3%. \\n \\n Here at MarketBeat HQ, we’ll be offering color commentary before and after the data crosses the wires. Feel free to weigh-in yourself, via the comments section. And while you’re here, why don’t you sign up to follow us on Twitter. \\n \\n Enjoy the show. ||||| Employers pulled back sharply on hiring last month, a reminder that the U.S. economy may not be growing fast enough to sustain robust job growth. The unemployment rate dipped, but mostly because more Americans stopped looking for work. \\n \\n The Labor Department says the economy added 120,000 jobs in March, down from more than 200,000 in each of the previous three months. \\n \\n The unemployment rate fell to 8.2 percent, the lowest since January 2009. The rate dropped because fewer people searched for jobs. The official unemployment tally only includes those seeking work. \\n \\n The economy has added 858,000 jobs since December _ the best four months of hiring in two years. But Federal Reserve Chairman Ben Bernanke has cautioned that the current hiring pace is unlikely to continue without more consumer spending.',\n",
       " 'summary': '– The unemployment rate dropped to 8.2% last month, but the economy only added 120,000 jobs, when 203,000 new jobs had been predicted, according to today\\'s jobs report. Reaction on the Wall Street Journal\\'s MarketBeat Blog was swift: \"Woah!!! Bad number.\" The unemployment rate, however, is better news; it had been expected to hold steady at 8.3%. But the AP notes that the dip is mostly due to more Americans giving up on seeking employment.'}"
      ]
     },
     "execution_count": 4,
     "metadata": {},
     "output_type": "execute_result"
    }
   ],
   "execution_count": 4
  },
  {
   "metadata": {
    "ExecuteTime": {
     "end_time": "2024-07-01T18:15:38.589609Z",
     "start_time": "2024-07-01T18:15:38.586628Z"
    }
   },
   "cell_type": "code",
   "source": "ds['train'].features",
   "outputs": [
    {
     "data": {
      "text/plain": [
       "{'document': Value(dtype='string', id=None),\n",
       " 'summary': Value(dtype='string', id=None)}"
      ]
     },
     "execution_count": 5,
     "metadata": {},
     "output_type": "execute_result"
    }
   ],
   "execution_count": 5
  },
  {
   "metadata": {
    "ExecuteTime": {
     "end_time": "2024-07-01T18:15:40.405901Z",
     "start_time": "2024-07-01T18:15:38.590643Z"
    }
   },
   "cell_type": "code",
   "source": [
    "ds_train = pd.DataFrame(ds['train'])\n",
    "ds_test = pd.DataFrame(ds['test'])\n",
    "ds_validation = pd.DataFrame(ds['validation'])"
   ],
   "outputs": [],
   "execution_count": 6
  },
  {
   "metadata": {
    "ExecuteTime": {
     "end_time": "2024-07-01T18:15:52.516961Z",
     "start_time": "2024-07-01T18:15:40.407124Z"
    }
   },
   "cell_type": "code",
   "source": [
    "# remove punctuation, capitalization and stop words from ds_train, ds_test, ds_validation in place\n",
    "nltk.download('stopwords')\n",
    "from nltk.corpus import stopwords\n",
    "\n",
    "stop_words = set(stopwords.words('english'))\n",
    "\n",
    "ds_train['document'] = ds_train['document'].apply(lambda x: ' '.join([word for word in x.split() if word not in stop_words]))\n",
    "ds_test['document'] = ds_test['document'].apply(lambda x: ' '.join([word for word in x.split() if word not in stop_words]))\n",
    "ds_validation['document'] = ds_validation['document'].apply(lambda x: ' '.join([word for word in x.split() if word not in stop_words]))\n"
   ],
   "outputs": [
    {
     "name": "stderr",
     "output_type": "stream",
     "text": [
      "[nltk_data] Downloading package stopwords to\n",
      "[nltk_data]     /Users/kiddstudio/nltk_data...\n",
      "[nltk_data]   Package stopwords is already up-to-date!\n"
     ]
    }
   ],
   "execution_count": 7
  },
  {
   "metadata": {
    "ExecuteTime": {
     "end_time": "2024-07-01T18:16:00.286721Z",
     "start_time": "2024-07-01T18:15:52.518033Z"
    }
   },
   "cell_type": "code",
   "source": [
    "# convert all uppercase to lower case\n",
    "ds_train['document'] = ds_train['document'].str.lower()\n",
    "ds_test['document'] = ds_test['document'].str.lower()\n",
    "\n",
    "# remove special characters \n",
    "ds_train['document'] = ds_train['document'].str.replace('[^a-zA-Z0-9\\s]','', regex=True)\n",
    "ds_test['document'] = ds_test['document'].str.replace('[^a-zA-Z0-9\\s]','', regex=True)"
   ],
   "outputs": [],
   "execution_count": 8
  },
  {
   "metadata": {
    "ExecuteTime": {
     "end_time": "2024-07-01T18:16:00.509706Z",
     "start_time": "2024-07-01T18:16:00.288019Z"
    }
   },
   "cell_type": "code",
   "source": [
    "#remove string \"(ap)\"  from all rows in ds_train and ds_test\n",
    "ds_train['document'] = ds_train['document'].str.replace(r'\\(ap\\)','', regex=True).fillna('')\n",
    "ds_test['document'] = ds_test['document'].str.replace(r'\\(ap\\)','', regex=True).fillna('')\n",
    "\n"
   ],
   "outputs": [],
   "execution_count": 9
  },
  {
   "metadata": {
    "ExecuteTime": {
     "end_time": "2024-07-01T18:16:00.517343Z",
     "start_time": "2024-07-01T18:16:00.512622Z"
    }
   },
   "cell_type": "code",
   "source": "ds_train['document']",
   "outputs": [
    {
     "data": {
      "text/plain": [
       "0        national archives yes its time again folks its...\n",
       "1        los angeles ap  in first interview since nba b...\n",
       "2        gaithersburg md ap  a small private jet crashe...\n",
       "3        tucker carlson exposes his own sexism twitter ...\n",
       "4        a man accused removing another mans testicle m...\n",
       "                               ...                        \n",
       "44967    more 670000 copies pearls selfpublished book c...\n",
       "44968    seeking costconscious consumers gravitated tow...\n",
       "44969    click email friend opens new window click shar...\n",
       "44970    barrington ri ap  women clad yoga pants plan p...\n",
       "44971    based real story hit john travolta film saturd...\n",
       "Name: document, Length: 44972, dtype: object"
      ]
     },
     "execution_count": 10,
     "metadata": {},
     "output_type": "execute_result"
    }
   ],
   "execution_count": 10
  },
  {
   "metadata": {
    "ExecuteTime": {
     "end_time": "2024-07-01T18:16:00.519649Z",
     "start_time": "2024-07-01T18:16:00.518167Z"
    }
   },
   "cell_type": "code",
   "source": "",
   "outputs": [],
   "execution_count": 10
  },
  {
   "metadata": {
    "ExecuteTime": {
     "end_time": "2024-07-01T18:16:02.261309Z",
     "start_time": "2024-07-01T18:16:00.520678Z"
    }
   },
   "cell_type": "code",
   "source": [
    "# Convert dataframes into Dataset objects\n",
    "# assign the splits\n",
    "train = Dataset.from_pandas(ds_train)\n",
    "test = Dataset.from_pandas(ds_test)\n",
    "\n",
    "# reconstruct both datasets into a Dataset Dict object\n",
    "new_ds = DatasetDict(\n",
    "    {\n",
    "        'train': train,\n",
    "        'test': test\n",
    "    }\n",
    ")"
   ],
   "outputs": [],
   "execution_count": 11
  },
  {
   "metadata": {
    "ExecuteTime": {
     "end_time": "2024-07-01T18:16:02.264815Z",
     "start_time": "2024-07-01T18:16:02.262134Z"
    }
   },
   "cell_type": "code",
   "source": "new_ds",
   "outputs": [
    {
     "data": {
      "text/plain": [
       "DatasetDict({\n",
       "    train: Dataset({\n",
       "        features: ['document', 'summary'],\n",
       "        num_rows: 44972\n",
       "    })\n",
       "    test: Dataset({\n",
       "        features: ['document', 'summary'],\n",
       "        num_rows: 5622\n",
       "    })\n",
       "})"
      ]
     },
     "execution_count": 12,
     "metadata": {},
     "output_type": "execute_result"
    }
   ],
   "execution_count": 12
  },
  {
   "metadata": {
    "ExecuteTime": {
     "end_time": "2024-07-01T18:16:02.268229Z",
     "start_time": "2024-07-01T18:16:02.265619Z"
    }
   },
   "cell_type": "code",
   "source": "new_ds['train']",
   "outputs": [
    {
     "data": {
      "text/plain": [
       "Dataset({\n",
       "    features: ['document', 'summary'],\n",
       "    num_rows: 44972\n",
       "})"
      ]
     },
     "execution_count": 13,
     "metadata": {},
     "output_type": "execute_result"
    }
   ],
   "execution_count": 13
  },
  {
   "metadata": {
    "ExecuteTime": {
     "end_time": "2024-07-01T18:16:02.270437Z",
     "start_time": "2024-07-01T18:16:02.269045Z"
    }
   },
   "cell_type": "code",
   "source": "",
   "outputs": [],
   "execution_count": 13
  },
  {
   "metadata": {
    "ExecuteTime": {
     "end_time": "2024-07-01T18:16:02.367461Z",
     "start_time": "2024-07-01T18:16:02.271299Z"
    }
   },
   "cell_type": "code",
   "source": "new_ds['train']['document'][0]",
   "outputs": [
    {
     "data": {
      "text/plain": [
       "'national archives yes its time again folks its first friday month one eversobrief moment interests wall street washington main street aligned one thing jobs a fresh update us employment situation january hits wires 830 am new york time offering one important snapshots economy fared previous month expectations 203000 new jobs created according economists polled dow jones newswires compared 227000 jobs added february the unemployment rate expected hold steady 83 here marketbeat hq well offering color commentary data crosses wires feel free weighin yourself via comments section and youre here dont sign follow us twitter enjoy show  employers pulled back sharply hiring last month reminder us economy may growing fast enough sustain robust job growth the unemployment rate dipped mostly americans stopped looking work the labor department says economy added 120000 jobs march 200000 previous three months the unemployment rate fell 82 percent lowest since january 2009 the rate dropped fewer people searched jobs the official unemployment tally includes seeking work the economy added 858000 jobs since december  best four months hiring two years but federal reserve chairman ben bernanke cautioned current hiring pace unlikely continue without consumer spending'"
      ]
     },
     "execution_count": 14,
     "metadata": {},
     "output_type": "execute_result"
    }
   ],
   "execution_count": 14
  },
  {
   "metadata": {
    "ExecuteTime": {
     "end_time": "2024-07-01T18:16:09.118533Z",
     "start_time": "2024-07-01T18:16:02.368827Z"
    }
   },
   "cell_type": "code",
   "source": [
    "# Convert DatasetDict to DataFrames\n",
    "train_df = pd.DataFrame(new_ds['train'])\n",
    "test_df = pd.DataFrame(new_ds['test'])\n",
    "\n",
    "# Export DataFrames to CSV\n",
    "train_df.to_csv('../data/processed/new_ds_train_dataset.csv', index=False)\n",
    "test_df.to_csv('../data/processed/new_ds_test_dataset.csv', index=False)\n"
   ],
   "outputs": [],
   "execution_count": 15
  },
  {
   "metadata": {
    "ExecuteTime": {
     "end_time": "2024-07-01T18:16:09.781777Z",
     "start_time": "2024-07-01T18:16:09.119389Z"
    }
   },
   "cell_type": "code",
   "source": "ds_validation.to_csv('../data/validation_set.csv', index=False)",
   "outputs": [],
   "execution_count": 16
  },
  {
   "metadata": {
    "ExecuteTime": {
     "end_time": "2024-07-01T18:16:09.784182Z",
     "start_time": "2024-07-01T18:16:09.782718Z"
    }
   },
   "cell_type": "code",
   "source": "",
   "outputs": [],
   "execution_count": 16
  }
 ],
 "metadata": {
  "language_info": {
   "name": "python"
  },
  "orig_nbformat": 4,
  "kernelspec": {
   "name": "python3",
   "language": "python",
   "display_name": "Python 3 (ipykernel)"
  }
 },
 "nbformat": 4,
 "nbformat_minor": 2
}
