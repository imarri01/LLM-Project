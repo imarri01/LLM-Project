{
 "cells": [
  {
   "cell_type": "code",
   "metadata": {
    "ExecuteTime": {
     "end_time": "2024-07-04T01:47:00.386120Z",
     "start_time": "2024-07-04T01:47:00.221496Z"
    }
   },
   "source": [
    "from huggingface_hub import notebook_login\n",
    "notebook_login()"
   ],
   "outputs": [
    {
     "data": {
      "text/plain": [
       "VBox(children=(HTML(value='<center> <img\\nsrc=https://huggingface.co/front/assets/huggingface_logo-noborder.sv…"
      ],
      "application/vnd.jupyter.widget-view+json": {
       "version_major": 2,
       "version_minor": 0,
       "model_id": "dd143c68edf14fed934eb02e2d78a661"
      }
     },
     "metadata": {},
     "output_type": "display_data"
    }
   ],
   "execution_count": 1
  },
  {
   "metadata": {
    "ExecuteTime": {
     "end_time": "2024-07-04T01:54:25.453736Z",
     "start_time": "2024-07-04T01:54:22.300696Z"
    }
   },
   "cell_type": "code",
   "source": " !pip install git-lfs",
   "outputs": [
    {
     "name": "stdout",
     "output_type": "stream",
     "text": [
      "Collecting git-lfs\r\n",
      "  Downloading git_lfs-1.6-py2.py3-none-any.whl.metadata (1.2 kB)\r\n",
      "Downloading git_lfs-1.6-py2.py3-none-any.whl (5.6 kB)\r\n",
      "Installing collected packages: git-lfs\r\n",
      "Successfully installed git-lfs-1.6\r\n"
     ]
    }
   ],
   "execution_count": 3
  },
  {
   "metadata": {
    "ExecuteTime": {
     "end_time": "2024-07-04T01:56:05.892162Z",
     "start_time": "2024-07-04T01:55:53.454704Z"
    }
   },
   "cell_type": "code",
   "source": [
    "from transformers import AutoTokenizer, Seq2SeqTrainer, Seq2SeqTrainingArguments, AutoModelForSeq2SeqLM, DataCollatorForSeq2Seq, AutoModelForSequenceClassification, TrainingArguments, Trainer, Trainer, TrainingArguments\n",
    "from datasets import Dataset, DatasetDict\n",
    "from datasets import load_dataset\n",
    "import evaluate\n",
    "import pandas as pd\n",
    "import nltk\n",
    "import numpy as np\n",
    "\n",
    "nltk.download('punkt')\n",
    "import warnings\n",
    "# Suppress all warnings\n",
    "warnings.filterwarnings('ignore')\n",
    "warnings.filterwarnings(\"ignore\", category=UserWarning, module='transformers')\n",
    "warnings.filterwarnings(\"ignore\", category=UserWarning)\n",
    "\n",
    "\n",
    "# Load data\n",
    "test_dataset = pd.read_csv('../data/processed/new_ds_test_dataset.csv')\n",
    "train_dataset = pd.read_csv('../data/processed/new_ds_train_dataset.csv')\n",
    "validation_dataset = pd.read_csv('../data/validation_set.csv')\n",
    "\n",
    "# Ensure all documents are strings\n",
    "train_dataset['document'] = train_dataset['document'][:150].astype(str)\n",
    "train_dataset['summary'] = train_dataset['summary'][:150].astype(str)\n",
    "test_dataset['document'] = test_dataset['document'][:50].astype(str)\n",
    "test_dataset['summary'] = test_dataset['summary'][:50].astype(str)\n",
    "validation_dataset['document'] = validation_dataset['document'][:50].astype(str)\n",
    "validation_dataset['summary'] = validation_dataset['summary'][:50].astype(str)\n",
    "\n",
    "# Handle missing values (remove rows with missing documents or summaries)\n",
    "train_dataset.dropna(subset=['document', 'summary'], inplace=True)\n",
    "test_dataset.dropna(subset=['document', 'summary'], inplace=True)\n",
    "validation_dataset.dropna(subset=['document', 'summary'], inplace=True)\n",
    "\n",
    "# Convert the pandas DataFrames to Hugging Face Datasets\n",
    "train = Dataset.from_pandas(train_dataset)\n",
    "test = Dataset.from_pandas(test_dataset)\n",
    "validation = Dataset.from_pandas(validation_dataset)\n",
    "\n",
    "# Reconstruct both datasets into a Dataset Dict object\n",
    "new_ds = DatasetDict({\n",
    "    'train': train,\n",
    "    'test': test,\n",
    "    'validation': validation\n",
    "})\n",
    "\n",
    "tokenizer = AutoTokenizer.from_pretrained(\"sshleifer/distilbart-cnn-12-6\")\n",
    "\n",
    "prefix = \"summarize: \"\n",
    "\n",
    "def preprocess_function(examples):\n",
    "    inputs = [prefix + doc for doc in examples[\"document\"]]\n",
    "    model_inputs = tokenizer(inputs, max_length=1024, truncation=True)\n",
    "\n",
    "    labels = tokenizer(text_target=examples[\"summary\"], max_length=128, truncation=True)\n",
    "\n",
    "    model_inputs[\"labels\"] = labels[\"input_ids\"]\n",
    "    return model_inputs\n",
    "\n",
    "tokenized_datasets = new_ds.map(preprocess_function, batched=True)\n",
    "\n",
    "# Setup evaluation\n",
    "nltk.download(\"punkt\", quiet=True)\n",
    "metric = evaluate.load(\"rouge\")\n",
    "\n",
    "\n",
    "def compute_metrics(eval_preds):\n",
    "    preds, labels = eval_preds\n",
    "\n",
    "    # decode preds and labels\n",
    "    labels = np.where(labels != -100, labels, tokenizer.pad_token_id)\n",
    "    decoded_preds = tokenizer.batch_decode(preds, skip_special_tokens=True)\n",
    "    decoded_labels = tokenizer.batch_decode(labels, skip_special_tokens=True)\n",
    "\n",
    "    # rougeLSum expects newline after each sentence\n",
    "    decoded_preds = [\"\\n\".join(nltk.sent_tokenize(pred.strip())) for pred in decoded_preds]\n",
    "    decoded_labels = [\"\\n\".join(nltk.sent_tokenize(label.strip())) for label in decoded_labels]\n",
    "\n",
    "    result = metric.compute(predictions=decoded_preds, references=decoded_labels, use_stemmer=True)\n",
    "    return result\n",
    "\n",
    "# Load pretrained model and evaluate model after each epoch\n",
    "model = AutoModelForSeq2SeqLM.from_pretrained(\"sshleifer/distilbart-cnn-12-6\")\n",
    "data_collator = DataCollatorForSeq2Seq(tokenizer=tokenizer, model=model)"
   ],
   "outputs": [
    {
     "name": "stderr",
     "output_type": "stream",
     "text": [
      "[nltk_data] Downloading package punkt to\n",
      "[nltk_data]     /Users/kiddstudio/nltk_data...\n",
      "[nltk_data]   Package punkt is already up-to-date!\n"
     ]
    },
    {
     "data": {
      "text/plain": [
       "Map:   0%|          | 0/150 [00:00<?, ? examples/s]"
      ],
      "application/vnd.jupyter.widget-view+json": {
       "version_major": 2,
       "version_minor": 0,
       "model_id": "4a859da7664441f1b030a24118cc77d7"
      }
     },
     "metadata": {},
     "output_type": "display_data"
    },
    {
     "data": {
      "text/plain": [
       "Map:   0%|          | 0/50 [00:00<?, ? examples/s]"
      ],
      "application/vnd.jupyter.widget-view+json": {
       "version_major": 2,
       "version_minor": 0,
       "model_id": "10353a8841214609a93d2760c95dc3a2"
      }
     },
     "metadata": {},
     "output_type": "display_data"
    },
    {
     "data": {
      "text/plain": [
       "Map:   0%|          | 0/50 [00:00<?, ? examples/s]"
      ],
      "application/vnd.jupyter.widget-view+json": {
       "version_major": 2,
       "version_minor": 0,
       "model_id": "a7392940c77a4e99b34a3343fb246a88"
      }
     },
     "metadata": {},
     "output_type": "display_data"
    }
   ],
   "execution_count": 4
  },
  {
   "metadata": {},
   "cell_type": "code",
   "outputs": [],
   "execution_count": null,
   "source": ""
  },
  {
   "metadata": {},
   "cell_type": "markdown",
   "source": "#### Optimization from previous notebook - also pushing this to repo on hugging-face"
  },
  {
   "metadata": {},
   "cell_type": "markdown",
   "source": [
    "###### Changes\n",
    "\n",
    "**learning_rate:** Increased from `2e-5` to `5e-5` to help the model converge faster.\n",
    "\n",
    "**per_device_train_batch_size:** Increased from `16` to `32` to allow the model to learn from more examples in each step.\n",
    "\n",
    "**per_device_eval_batch_size:** Increased from `4` to `8` to speed up evaluation.\n",
    "\n",
    "**weight_decay:** Increased from `0.01` to `0.05` for better regularization.\n",
    "\n",
    "**num_train_epochs:** Increased from `2` to `5` to give the model more time to learn.\n",
    "\n",
    "**lr_scheduler_type:** Added `linear` learning rate scheduler to adjust the learning rate dynamically during training."
   ]
  },
  {
   "metadata": {
    "ExecuteTime": {
     "end_time": "2024-07-04T02:02:43.479386Z",
     "start_time": "2024-07-04T02:02:42.871103Z"
    }
   },
   "cell_type": "code",
   "source": [
    "repo_name = \"imarri01-huggingface\"\n",
    "training_args = Seq2SeqTrainingArguments(\n",
    "    output_dir=repo_name,\n",
    "    evaluation_strategy=\"epoch\",\n",
    "    learning_rate=5e-5,  # Increased learning rate\n",
    "    per_device_train_batch_size=32,  # Increased train batch size\n",
    "    per_device_eval_batch_size=8,  # Increased eval batch size\n",
    "    weight_decay=0.05,  # Increased weight decay\n",
    "    save_total_limit=3,\n",
    "    num_train_epochs=5,  # Increased number of epochs\n",
    "    fp16=True,\n",
    "    predict_with_generate=True,\n",
    "    lr_scheduler_type=\"linear\",  # Added learning rate scheduler\n",
    "    push_to_hub=True,\n",
    ")\n",
    "\n",
    "trainer = Seq2SeqTrainer(\n",
    "    model=model,\n",
    "    args=training_args,\n",
    "    train_dataset=tokenized_datasets[\"train\"],\n",
    "    eval_dataset=tokenized_datasets[\"test\"],\n",
    "    tokenizer=tokenizer,\n",
    "    data_collator=data_collator,\n",
    "    compute_metrics=compute_metrics\n",
    ")"
   ],
   "outputs": [],
   "execution_count": 6
  },
  {
   "metadata": {},
   "cell_type": "markdown",
   "source": ""
  },
  {
   "metadata": {
    "ExecuteTime": {
     "end_time": "2024-07-04T02:09:44.398871Z",
     "start_time": "2024-07-04T02:02:50.988025Z"
    }
   },
   "cell_type": "code",
   "source": "trainer.evaluate()",
   "outputs": [
    {
     "data": {
      "text/plain": [
       "<IPython.core.display.HTML object>"
      ],
      "text/html": [
       "\n",
       "    <div>\n",
       "      \n",
       "      <progress value='7' max='7' style='width:300px; height:20px; vertical-align: middle;'></progress>\n",
       "      [7/7 05:53]\n",
       "    </div>\n",
       "    "
      ]
     },
     "metadata": {},
     "output_type": "display_data"
    },
    {
     "data": {
      "text/plain": [
       "{'eval_loss': 3.8916475772857666,\n",
       " 'eval_rouge1': 0.2208500707803589,\n",
       " 'eval_rouge2': 0.047174236288315706,\n",
       " 'eval_rougeL': 0.1375384710876717,\n",
       " 'eval_rougeLsum': 0.18938613404553833,\n",
       " 'eval_runtime': 413.4048,\n",
       " 'eval_samples_per_second': 0.121,\n",
       " 'eval_steps_per_second': 0.017}"
      ]
     },
     "execution_count": 7,
     "metadata": {},
     "output_type": "execute_result"
    }
   ],
   "execution_count": 7
  },
  {
   "metadata": {},
   "cell_type": "markdown",
   "source": "The optimization improved the model run time from 1hr down to 6 mins"
  },
  {
   "metadata": {
    "ExecuteTime": {
     "end_time": "2024-07-04T02:15:10.460862Z",
     "start_time": "2024-07-04T02:14:07.025135Z"
    }
   },
   "cell_type": "code",
   "source": "trainer.push_to_hub()",
   "outputs": [
    {
     "name": "stderr",
     "output_type": "stream",
     "text": [
      "Some non-default generation parameters are set in the model config. These should go into a GenerationConfig file (https://huggingface.co/docs/transformers/generation_strategies#save-a-custom-decoding-strategy-with-your-model) instead. This warning will be raised to an exception in v4.41.\n",
      "Non-default generation parameters: {'max_length': 142, 'min_length': 56, 'early_stopping': True, 'num_beams': 4, 'length_penalty': 2.0, 'no_repeat_ngram_size': 3, 'forced_bos_token_id': 0, 'forced_eos_token_id': 2}\n"
     ]
    },
    {
     "data": {
      "text/plain": [
       "Upload 2 LFS files:   0%|          | 0/2 [00:00<?, ?it/s]"
      ],
      "application/vnd.jupyter.widget-view+json": {
       "version_major": 2,
       "version_minor": 0,
       "model_id": "f4322efff47240e1b92baba0cd4b72db"
      }
     },
     "metadata": {},
     "output_type": "display_data"
    },
    {
     "data": {
      "text/plain": [
       "model.safetensors:   0%|          | 0.00/1.22G [00:00<?, ?B/s]"
      ],
      "application/vnd.jupyter.widget-view+json": {
       "version_major": 2,
       "version_minor": 0,
       "model_id": "d67cec63decc4b06b6bd9cf6f03539b5"
      }
     },
     "metadata": {},
     "output_type": "display_data"
    },
    {
     "data": {
      "text/plain": [
       "training_args.bin:   0%|          | 0.00/5.24k [00:00<?, ?B/s]"
      ],
      "application/vnd.jupyter.widget-view+json": {
       "version_major": 2,
       "version_minor": 0,
       "model_id": "368553e2a1ba4c529a7e4926c2307dc3"
      }
     },
     "metadata": {},
     "output_type": "display_data"
    },
    {
     "data": {
      "text/plain": [
       "CommitInfo(commit_url='https://huggingface.co/imarri01/imarri01-huggingface/commit/93c14e1679409e340b4d5fa50d4400ac095958e2', commit_message='End of training', commit_description='', oid='93c14e1679409e340b4d5fa50d4400ac095958e2', pr_url=None, pr_revision=None, pr_num=None)"
      ]
     },
     "execution_count": 8,
     "metadata": {},
     "output_type": "execute_result"
    }
   ],
   "execution_count": 8
  },
  {
   "metadata": {},
   "cell_type": "markdown",
   "source": "URL: https://huggingface.co/imarri01/imarri01-huggingface"
  },
  {
   "metadata": {},
   "cell_type": "markdown",
   "source": 
  },
  {
   "metadata": {},
   "cell_type": "code",
   "outputs": [],
   "execution_count": null,
   "source": ""
  }
 ],
 "metadata": {
  "language_info": {
   "name": "python"
  },
  "orig_nbformat": 4,
  "kernelspec": {
   "name": "python3",
   "language": "python",
   "display_name": "Python 3 (ipykernel)"
  }
 },
 "nbformat": 4,
 "nbformat_minor": 2
}
