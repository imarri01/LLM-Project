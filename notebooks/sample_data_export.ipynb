{
 "cells": [
  {
   "metadata": {},
   "cell_type": "markdown",
   "source": "Note: I created this after the project due to the large file sizes. You can use this subset data with notebooks or load the original dataset from huggingface. ",
   "id": "6e7e4297014ed8d2"
  },
  {
   "cell_type": "code",
   "id": "initial_id",
   "metadata": {
    "collapsed": true,
    "ExecuteTime": {
     "end_time": "2024-07-04T12:54:15.632105Z",
     "start_time": "2024-07-04T12:54:15.627535Z"
    }
   },
   "source": [
    "import pandas as pd\n",
    "from datasets import Dataset, DatasetDict\n",
    "import warnings\n",
    "# Suppress all warnings\n",
    "warnings.filterwarnings('ignore')"
   ],
   "outputs": [],
   "execution_count": 6
  },
  {
   "metadata": {
    "ExecuteTime": {
     "end_time": "2024-07-04T12:54:21.215271Z",
     "start_time": "2024-07-04T12:54:16.299635Z"
    }
   },
   "cell_type": "code",
   "source": [
    "# Load data\n",
    "test_dataset = pd.read_csv('../data/processed/new_ds_test_dataset.csv')\n",
    "train_dataset = pd.read_csv('../data/processed/new_ds_train_dataset.csv')\n",
    "validation_dataset = pd.read_csv('../data/validation_set.csv')\n",
    "\n",
    "# Ensure all documents are strings\n",
    "train_dataset['document'] = train_dataset['document'][:150].astype(str)\n",
    "train_dataset['summary'] = train_dataset['summary'][:150].astype(str)\n",
    "test_dataset['document'] = test_dataset['document'][:50].astype(str)\n",
    "test_dataset['summary'] = test_dataset['summary'][:50].astype(str)\n",
    "validation_dataset['document'] = validation_dataset['document'][:50].astype(str)\n",
    "validation_dataset['summary'] = validation_dataset['summary'][:50].astype(str)\n",
    "\n",
    "# Handle missing values (remove rows with missing documents or summaries)\n",
    "train_dataset.dropna(subset=['document', 'summary'], inplace=True)\n",
    "test_dataset.dropna(subset=['document', 'summary'], inplace=True)\n",
    "validation_dataset.dropna(subset=['document', 'summary'], inplace=True)\n",
    "\n",
    "# Convert the pandas DataFrames to Hugging Face Datasets\n",
    "train = Dataset.from_pandas(train_dataset)\n",
    "test = Dataset.from_pandas(test_dataset)\n",
    "validation = Dataset.from_pandas(validation_dataset)\n",
    "\n",
    "# Reconstruct both datasets into a Dataset Dict object\n",
    "new_ds = DatasetDict({\n",
    "    'train': train,\n",
    "    'test': test,\n",
    "    'validation': validation\n",
    "})"
   ],
   "id": "a76609f2557c542a",
   "outputs": [],
   "execution_count": 7
  },
  {
   "metadata": {
    "ExecuteTime": {
     "end_time": "2024-07-04T12:54:21.253165Z",
     "start_time": "2024-07-04T12:54:21.216379Z"
    }
   },
   "cell_type": "code",
   "source": [
    "train_dataset[:150].to_csv('../data/subset/subset_train_dataset.csv', index=False)\n",
    "test_dataset[:50].to_csv('../data/subset/subset_test_dataset.csv', index=False)\n",
    "validation_dataset[:50].to_csv('../data/subset/subset_validation_dataset.csv', index=False)"
   ],
   "id": "aad32715a59a38a",
   "outputs": [],
   "execution_count": 8
  },
  {
   "metadata": {},
   "cell_type": "code",
   "outputs": [],
   "execution_count": null,
   "source": "",
   "id": "c21ba2d4d777f6b5"
  }
 ],
 "metadata": {
  "kernelspec": {
   "display_name": "Python 3",
   "language": "python",
   "name": "python3"
  },
  "language_info": {
   "codemirror_mode": {
    "name": "ipython",
    "version": 2
   },
   "file_extension": ".py",
   "mimetype": "text/x-python",
   "name": "python",
   "nbconvert_exporter": "python",
   "pygments_lexer": "ipython2",
   "version": "2.7.6"
  }
 },
 "nbformat": 4,
 "nbformat_minor": 5
}
